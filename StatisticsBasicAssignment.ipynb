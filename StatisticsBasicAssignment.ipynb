{
 "cells": [
  {
   "cell_type": "markdown",
   "id": "78d3b6dc",
   "metadata": {},
   "source": [
    "                                        # Practice Theory Question"
   ]
  },
  {
   "cell_type": "markdown",
   "id": "94758e4e",
   "metadata": {},
   "source": [
    "### 1. What is statistics, and why is it important?"
   ]
  },
  {
   "cell_type": "markdown",
   "id": "217757ad",
   "metadata": {},
   "source": [
    "Statistics is the science of collecting, analyzing, interpreting, and presenting data. It helps in making informed decisions using data insights."
   ]
  },
  {
   "cell_type": "markdown",
   "id": "4273c38d",
   "metadata": {},
   "source": [
    "### 2. What are the two main types of statistics?"
   ]
  },
  {
   "cell_type": "markdown",
   "id": "40dca944",
   "metadata": {},
   "source": [
    "1. Descriptive Statistics: Summarize and describe data.\n",
    "2. Inferential Statistics: Make predictions or inferences about a population based on a sample."
   ]
  },
  {
   "cell_type": "markdown",
   "id": "1f0e3427",
   "metadata": {},
   "source": [
    "### 3. What are descriptive statistics?"
   ]
  },
  {
   "cell_type": "markdown",
   "id": "abc16cbf",
   "metadata": {},
   "source": [
    "Descriptive statistics summarize features of a dataset using measures such as mean, median, mode, range, and standard deviation."
   ]
  },
  {
   "cell_type": "markdown",
   "id": "af2bf742",
   "metadata": {},
   "source": [
    "### 4. What is inferential statistics?"
   ]
  },
  {
   "cell_type": "markdown",
   "id": "6936486f",
   "metadata": {},
   "source": [
    "Inferential statistics use a random sample of data to make estimates, decisions, or predictions about a population."
   ]
  },
  {
   "cell_type": "markdown",
   "id": "afa95b19",
   "metadata": {},
   "source": [
    "### 5. What is sampling in statistics?"
   ]
  },
  {
   "cell_type": "markdown",
   "id": "111e800b",
   "metadata": {},
   "source": [
    "Sampling is the process of selecting a subset of individuals from a population to estimate characteristics of the whole population."
   ]
  },
  {
   "cell_type": "markdown",
   "id": "0df7a260",
   "metadata": {},
   "source": [
    "### 6. What are the different types of sampling methods?"
   ]
  },
  {
   "cell_type": "markdown",
   "id": "b86027fe",
   "metadata": {},
   "source": [
    "1. Simple Random Sampling\n",
    "2. Systematic Sampling\n",
    "3. Stratified Sampling\n",
    "4. Cluster Sampling\n",
    "5. Convenience Sampling"
   ]
  },
  {
   "cell_type": "markdown",
   "id": "45f8706d",
   "metadata": {},
   "source": [
    "### 7. What is the difference between random and non-random sampling?"
   ]
  },
  {
   "cell_type": "markdown",
   "id": "f2770610",
   "metadata": {},
   "source": [
    "Random sampling ensures each member has an equal chance of selection. Non-random sampling relies on subjective methods like convenience or judgment."
   ]
  },
  {
   "cell_type": "markdown",
   "id": "29216300",
   "metadata": {},
   "source": [
    "### 8. Define and give examples of qualitative and quantitative data"
   ]
  },
  {
   "cell_type": "markdown",
   "id": "8a543e75",
   "metadata": {},
   "source": [
    "Qualitative: Descriptive (e.g., colors, names)\n",
    "Quantitative: Numerical (e.g., height, weight)"
   ]
  },
  {
   "cell_type": "markdown",
   "id": "8f2a928d",
   "metadata": {},
   "source": [
    "### 9. What are the different types of data in statistics?"
   ]
  },
  {
   "cell_type": "markdown",
   "id": "c65932c8",
   "metadata": {},
   "source": [
    "1. Qualitative (Categorical)\n",
    "2. Quantitative (Numerical)\n",
    "   - Discrete\n",
    "   - Continuous"
   ]
  },
  {
   "cell_type": "markdown",
   "id": "52434b18",
   "metadata": {},
   "source": [
    "### 10. Explain nominal, ordinal, interval, and ratio levels of measurement"
   ]
  },
  {
   "cell_type": "markdown",
   "id": "4b402a52",
   "metadata": {},
   "source": [
    "1. Nominal: Categories with no order (e.g., gender)\n",
    "2. Ordinal: Categories with order (e.g., ranks)\n",
    "3. Interval: Ordered, equal spacing, no true zero (e.g., temperature)\n",
    "4. Ratio: Like interval + true zero (e.g., weight)"
   ]
  },
  {
   "cell_type": "markdown",
   "id": "784a7f59",
   "metadata": {},
   "source": [
    "### 11. What is the measure of central tendency?"
   ]
  },
  {
   "cell_type": "markdown",
   "id": "c98d304a",
   "metadata": {},
   "source": [
    "It refers to the central point of a dataset: mean, median, and mode."
   ]
  },
  {
   "cell_type": "markdown",
   "id": "9b772ae2",
   "metadata": {},
   "source": [
    "### 12. Define mean, median, and mode"
   ]
  },
  {
   "cell_type": "markdown",
   "id": "c1f351ea",
   "metadata": {},
   "source": [
    "Mean: Average value\n",
    "Median: Middle value\n",
    "Mode: Most frequent value"
   ]
  },
  {
   "cell_type": "markdown",
   "id": "ff81d9bc",
   "metadata": {},
   "source": [
    "### 13. What is the significance of the measure of central tendency?"
   ]
  },
  {
   "cell_type": "markdown",
   "id": "687af211",
   "metadata": {},
   "source": [
    "It gives a summary of data distribution and is useful for comparison and decision-making."
   ]
  },
  {
   "cell_type": "markdown",
   "id": "867ba9b7",
   "metadata": {},
   "source": [
    "### 14. What is variance, and how is it calculated?"
   ]
  },
  {
   "cell_type": "markdown",
   "id": "e6783533",
   "metadata": {},
   "source": [
    "Variance measures how far data values are from the mean. Formula: Var(X) = Σ(xi - mean)² / n"
   ]
  },
  {
   "cell_type": "markdown",
   "id": "bfd65f0a",
   "metadata": {},
   "source": [
    "### 15. What is standard deviation, and why is it important?"
   ]
  },
  {
   "cell_type": "markdown",
   "id": "0c644db4",
   "metadata": {},
   "source": [
    "Standard deviation shows how spread out the values are. It’s the square root of variance and helps understand variability."
   ]
  },
  {
   "cell_type": "markdown",
   "id": "5cae585e",
   "metadata": {},
   "source": [
    "### 16. Define and explain the term range in statistics"
   ]
  },
  {
   "cell_type": "markdown",
   "id": "378d5a48",
   "metadata": {},
   "source": [
    "Range is the difference between the highest and lowest values in a dataset."
   ]
  },
  {
   "cell_type": "markdown",
   "id": "425dca6c",
   "metadata": {},
   "source": [
    "### 17. What is the difference between variance and standard deviation?"
   ]
  },
  {
   "cell_type": "markdown",
   "id": "fe85cee7",
   "metadata": {},
   "source": [
    "Variance is the average squared deviation, while standard deviation is its square root, giving dispersion in original units."
   ]
  },
  {
   "cell_type": "markdown",
   "id": "6257696d",
   "metadata": {},
   "source": [
    "### 18. What is skewness in a dataset?"
   ]
  },
  {
   "cell_type": "markdown",
   "id": "2519f120",
   "metadata": {},
   "source": [
    "Skewness measures the asymmetry of the data distribution. It can be positive, negative, or zero."
   ]
  },
  {
   "cell_type": "markdown",
   "id": "2d5ed087",
   "metadata": {},
   "source": [
    "### 19. What does it mean if a dataset is positively or negatively skewed?"
   ]
  },
  {
   "cell_type": "markdown",
   "id": "0c38c038",
   "metadata": {},
   "source": [
    "Positive skew: Tail on the right, Mean > Median\n",
    "Negative skew: Tail on the left, Mean < Median"
   ]
  },
  {
   "cell_type": "markdown",
   "id": "f4525ebb",
   "metadata": {},
   "source": [
    "### 20. Define and explain kurtosis"
   ]
  },
  {
   "cell_type": "markdown",
   "id": "f9d3b5e6",
   "metadata": {},
   "source": [
    "Kurtosis measures the 'tailedness' of a distribution. High kurtosis = heavy tails; low = light tails."
   ]
  },
  {
   "cell_type": "markdown",
   "id": "6ee419ba",
   "metadata": {},
   "source": [
    "### 21. What is the purpose of covariance?"
   ]
  },
  {
   "cell_type": "markdown",
   "id": "9c2d9c54",
   "metadata": {},
   "source": [
    "Covariance shows the direction of the relationship between two variables."
   ]
  },
  {
   "cell_type": "markdown",
   "id": "f6863be6",
   "metadata": {},
   "source": [
    "### 22. What does correlation measure in statistics?"
   ]
  },
  {
   "cell_type": "markdown",
   "id": "f3fe158b",
   "metadata": {},
   "source": [
    "Correlation measures the strength and direction of a linear relationship between two variables."
   ]
  },
  {
   "cell_type": "markdown",
   "id": "b0f69749",
   "metadata": {},
   "source": [
    "### 23. What is the difference between covariance and correlation?"
   ]
  },
  {
   "cell_type": "markdown",
   "id": "494cef09",
   "metadata": {},
   "source": [
    "Covariance indicates direction only; correlation standardizes it, showing both strength and direction (-1 to +1)."
   ]
  },
  {
   "cell_type": "markdown",
   "id": "4efb1f28",
   "metadata": {},
   "source": [
    "### 24. What are some real-world applications of statistics?"
   ]
  },
  {
   "cell_type": "markdown",
   "id": "ad803ae7",
   "metadata": {},
   "source": [
    "Statistics are used in healthcare, business, sports, politics, economics, machine learning, and more for data-driven decisions."
   ]
  },
  {
   "cell_type": "markdown",
   "id": "2c1e8798",
   "metadata": {},
   "source": [
    "                                    # Practical Question"
   ]
  },
  {
   "cell_type": "code",
   "execution_count": null,
   "id": "b6363ea8",
   "metadata": {},
   "outputs": [],
   "source": []
  },
  {
   "cell_type": "markdown",
   "id": "c70e7f11",
   "metadata": {},
   "source": [
    "### 1. How do you calculate the mean, median, and mode of a dataset?"
   ]
  },
  {
   "cell_type": "code",
   "execution_count": null,
   "id": "56590d11",
   "metadata": {},
   "outputs": [],
   "source": [
    "import numpy as np\n",
    "from scipy import stats\n",
    "\n",
    "data = [12, 15, 12, 18, 19, 21, 24, 24, 30, 34, 36, 36, 38, 40]\n",
    "print(\"Mean:\", np.mean(data))\n",
    "print(\"Median:\", np.median(data))\n",
    "print(\"Mode:\", stats.mode(data, keepdims=True).mode[0])"
   ]
  },
  {
   "cell_type": "markdown",
   "id": "0e59c63d",
   "metadata": {},
   "source": [
    "### 2. Write a Python program to compute the variance and standard deviation of a dataset."
   ]
  },
  {
   "cell_type": "code",
   "execution_count": null,
   "id": "a0c3df72",
   "metadata": {},
   "outputs": [],
   "source": [
    "print(\"Variance:\", np.var(data, ddof=1))\n",
    "print(\"Standard Deviation:\", np.std(data, ddof=1))"
   ]
  },
  {
   "cell_type": "markdown",
   "id": "dc18bc7f",
   "metadata": {},
   "source": [
    "### 3. Create a dataset and classify it into nominal, ordinal, interval, and ratio types."
   ]
  },
  {
   "cell_type": "code",
   "execution_count": null,
   "id": "f92023db",
   "metadata": {},
   "outputs": [],
   "source": [
    "print(\"\"\"\n",
    "Nominal: Colors ['Red', 'Blue', 'Green']\n",
    "Ordinal: Ratings ['Poor', 'Average', 'Good', 'Excellent']\n",
    "Interval: Temperature in Celsius [20, 25, 30]\n",
    "Ratio: Weight in kg [55.5, 60.2, 70.0]\n",
    "\"\"\")"
   ]
  },
  {
   "cell_type": "markdown",
   "id": "bd2cc765",
   "metadata": {},
   "source": [
    "### 4. Implement sampling techniques like random sampling and stratified sampling."
   ]
  },
  {
   "cell_type": "code",
   "execution_count": null,
   "id": "f57bd533",
   "metadata": {},
   "outputs": [],
   "source": [
    "import pandas as pd\n",
    "population = np.arange(1, 101)\n",
    "random_sample = np.random.choice(population, size=10, replace=False)\n",
    "print(\"Random Sample:\", random_sample)\n",
    "df = pd.DataFrame({'ID': range(1, 101), 'Group': np.random.choice(['A', 'B'], 100)})\n",
    "stratified_sample = df.groupby('Group', group_keys=False).apply(lambda x: x.sample(5))\n",
    "print(\"Stratified Sample:\\n\", stratified_sample)"
   ]
  },
  {
   "cell_type": "markdown",
   "id": "54c3bc1e",
   "metadata": {},
   "source": [
    "### 5. Write a Python function to calculate the range of a dataset."
   ]
  },
  {
   "cell_type": "code",
   "execution_count": null,
   "id": "e526f8e0",
   "metadata": {},
   "outputs": [],
   "source": [
    "print(\"Range:\", np.max(data) - np.min(data))"
   ]
  },
  {
   "cell_type": "markdown",
   "id": "4cd6ad61",
   "metadata": {},
   "source": [
    "### 6. Create a dataset and plot its histogram to visualize skewness."
   ]
  },
  {
   "cell_type": "code",
   "execution_count": null,
   "id": "684842fd",
   "metadata": {},
   "outputs": [],
   "source": [
    "import matplotlib.pyplot as plt\n",
    "plt.hist(data, bins=10)\n",
    "plt.title(\"Histogram\")\n",
    "plt.show()"
   ]
  },
  {
   "cell_type": "markdown",
   "id": "912924b6",
   "metadata": {},
   "source": [
    "### 7. Calculate skewness and kurtosis of a dataset using Python libraries."
   ]
  },
  {
   "cell_type": "code",
   "execution_count": null,
   "id": "f714b6ec",
   "metadata": {},
   "outputs": [],
   "source": [
    "print(\"Skewness:\", stats.skew(data))\n",
    "print(\"Kurtosis:\", stats.kurtosis(data))"
   ]
  },
  {
   "cell_type": "markdown",
   "id": "4dc6d51c",
   "metadata": {},
   "source": [
    "### 8. Generate a dataset and demonstrate positive and negative skewness."
   ]
  },
  {
   "cell_type": "code",
   "execution_count": null,
   "id": "5980bff0",
   "metadata": {},
   "outputs": [],
   "source": [
    "import seaborn as sns\n",
    "pos_skew = [1, 2, 2, 3, 4, 10]\n",
    "neg_skew = [10, 6, 5, 4, 3, 2, 1]\n",
    "sns.histplot(pos_skew, kde=True)\n",
    "plt.title(\"Positive Skew\")\n",
    "plt.show()\n",
    "sns.histplot(neg_skew, kde=True)\n",
    "plt.title(\"Negative Skew\")\n",
    "plt.show()"
   ]
  },
  {
   "cell_type": "markdown",
   "id": "3c6630dd",
   "metadata": {},
   "source": [
    "### 9. Write a Python script to calculate covariance between two datasets."
   ]
  },
  {
   "cell_type": "code",
   "execution_count": null,
   "id": "8202f54c",
   "metadata": {},
   "outputs": [],
   "source": [
    "data2 = np.random.randint(10, 50, len(data))\n",
    "print(\"Covariance:\", np.cov(data, data2))"
   ]
  },
  {
   "cell_type": "markdown",
   "id": "a7112efc",
   "metadata": {},
   "source": [
    "### 10. Write a Python script to calculate the correlation coefficient between two datasets."
   ]
  },
  {
   "cell_type": "code",
   "execution_count": null,
   "id": "db3f26a2",
   "metadata": {},
   "outputs": [],
   "source": [
    "print(\"Correlation Coefficient:\", np.corrcoef(data, data2)[0, 1])"
   ]
  },
  {
   "cell_type": "markdown",
   "id": "36c4e749",
   "metadata": {},
   "source": [
    "### 11. Create a scatter plot to visualize the relationship between two variables."
   ]
  },
  {
   "cell_type": "code",
   "execution_count": null,
   "id": "dceb7498",
   "metadata": {},
   "outputs": [],
   "source": [
    "plt.scatter(data, data2)\n",
    "plt.title(\"Scatter Plot\")\n",
    "plt.xlabel(\"X\")\n",
    "plt.ylabel(\"Y\")\n",
    "plt.show()"
   ]
  },
  {
   "cell_type": "markdown",
   "id": "ddc7363d",
   "metadata": {},
   "source": [
    "### 12. Implement and compare simple random sampling and systematic sampling."
   ]
  },
  {
   "cell_type": "code",
   "execution_count": null,
   "id": "317a36dd",
   "metadata": {},
   "outputs": [],
   "source": [
    "simple_random = np.random.choice(population, 10, replace=False)\n",
    "systematic = population[::10]\n",
    "print(\"Simple Random:\", simple_random)\n",
    "print(\"Systematic:\", systematic)"
   ]
  },
  {
   "cell_type": "markdown",
   "id": "e2b881f2",
   "metadata": {},
   "source": [
    "### 13. Calculate the mean, median, and mode of grouped data."
   ]
  },
  {
   "cell_type": "code",
   "execution_count": null,
   "id": "790c4953",
   "metadata": {},
   "outputs": [],
   "source": [
    "grouped = {'Class Interval': ['0-10', '10-20', '20-30'], 'Frequency': [5, 10, 15]}\n",
    "df = pd.DataFrame(grouped)\n",
    "midpoints = [5, 15, 25]\n",
    "freq = df['Frequency']\n",
    "print(\"Grouped Mean:\", np.average(midpoints, weights=freq))"
   ]
  },
  {
   "cell_type": "markdown",
   "id": "3c0188ae",
   "metadata": {},
   "source": [
    "### 14. Simulate data using Python and calculate its central tendency and dispersion."
   ]
  },
  {
   "cell_type": "code",
   "execution_count": null,
   "id": "d962c51e",
   "metadata": {},
   "outputs": [],
   "source": [
    "sim_data = np.random.normal(50, 10, 1000)\n",
    "print(\"Mean:\", np.mean(sim_data))\n",
    "print(\"Median:\", np.median(sim_data))\n",
    "print(\"Mode:\", stats.mode(sim_data, keepdims=True).mode[0])\n",
    "print(\"STD:\", np.std(sim_data, ddof=1))"
   ]
  },
  {
   "cell_type": "markdown",
   "id": "cabacda4",
   "metadata": {},
   "source": [
    "### 15. Use NumPy or pandas to summarize a dataset’s descriptive statistics."
   ]
  },
  {
   "cell_type": "code",
   "execution_count": null,
   "id": "d874cab9",
   "metadata": {},
   "outputs": [],
   "source": [
    "df_summary = pd.DataFrame({'Data': data})\n",
    "print(df_summary.describe())"
   ]
  },
  {
   "cell_type": "markdown",
   "id": "f5f05f9c",
   "metadata": {},
   "source": [
    "### 16. Plot a boxplot to understand the spread and identify outliers."
   ]
  },
  {
   "cell_type": "code",
   "execution_count": null,
   "id": "ae211c6d",
   "metadata": {},
   "outputs": [],
   "source": [
    "sns.boxplot(data)\n",
    "plt.title(\"Boxplot\")\n",
    "plt.show()"
   ]
  },
  {
   "cell_type": "markdown",
   "id": "d51cc592",
   "metadata": {},
   "source": [
    "### 17. Calculate the interquartile range (IQR) of a dataset."
   ]
  },
  {
   "cell_type": "code",
   "execution_count": null,
   "id": "67c635d2",
   "metadata": {},
   "outputs": [],
   "source": [
    "q75, q25 = np.percentile(data, [75 ,25])\n",
    "print(\"IQR:\", q75 - q25)"
   ]
  },
  {
   "cell_type": "markdown",
   "id": "a3c8d9d2",
   "metadata": {},
   "source": [
    "### 18. Implement Z-score normalization and explain its significance."
   ]
  },
  {
   "cell_type": "code",
   "execution_count": null,
   "id": "2a362d68",
   "metadata": {},
   "outputs": [],
   "source": [
    "z_scores = stats.zscore(data)\n",
    "print(\"Z-Scores:\", z_scores)"
   ]
  },
  {
   "cell_type": "markdown",
   "id": "b4e67b10",
   "metadata": {},
   "source": [
    "### 19. Compare two datasets using their standard deviations."
   ]
  },
  {
   "cell_type": "code",
   "execution_count": null,
   "id": "9329f94b",
   "metadata": {},
   "outputs": [],
   "source": [
    "data1 = np.random.normal(50, 5, 100)\n",
    "data2 = np.random.normal(50, 20, 100)\n",
    "print(\"STD Dataset 1:\", np.std(data1, ddof=1))\n",
    "print(\"STD Dataset 2:\", np.std(data2, ddof=1))"
   ]
  },
  {
   "cell_type": "markdown",
   "id": "3564ebcd",
   "metadata": {},
   "source": [
    "### 20. Write a Python program to visualize covariance using a heatmap."
   ]
  },
  {
   "cell_type": "code",
   "execution_count": null,
   "id": "374f32e3",
   "metadata": {},
   "outputs": [],
   "source": [
    "df_cov = pd.DataFrame({'A': data, 'B': data2})\n",
    "sns.heatmap(df_cov.cov(), annot=True)\n",
    "plt.title(\"Covariance Heatmap\")\n",
    "plt.show()"
   ]
  },
  {
   "cell_type": "markdown",
   "id": "734331b8",
   "metadata": {},
   "source": [
    "### 21. Use seaborn to create a correlation matrix for a dataset."
   ]
  },
  {
   "cell_type": "code",
   "execution_count": null,
   "id": "dd480de2",
   "metadata": {},
   "outputs": [],
   "source": [
    "sns.heatmap(df_cov.corr(), annot=True)\n",
    "plt.title(\"Correlation Matrix\")\n",
    "plt.show()"
   ]
  },
  {
   "cell_type": "markdown",
   "id": "5c01125a",
   "metadata": {},
   "source": [
    "### 22. Visualize skewness and kurtosis using Python libraries like matplotlib or seaborn."
   ]
  },
  {
   "cell_type": "code",
   "execution_count": null,
   "id": "87430968",
   "metadata": {},
   "outputs": [],
   "source": [
    "sns.histplot(data, kde=True)\n",
    "plt.title(\"Skewness and Kurtosis Visualization\")\n",
    "plt.show()"
   ]
  },
  {
   "cell_type": "markdown",
   "id": "c17a251c",
   "metadata": {},
   "source": [
    "### 23. Implement the Pearson and Spearman correlation coefficients for a dataset."
   ]
  },
  {
   "cell_type": "code",
   "execution_count": null,
   "id": "3e82a0ac",
   "metadata": {},
   "outputs": [],
   "source": [
    "df_corr = pd.DataFrame({'X': np.random.rand(100), 'Y': np.random.rand(100)})\n",
    "print(\"Pearson:\\n\", df_corr.corr(method='pearson'))\n",
    "print(\"Spearman:\\n\", df_corr.corr(method='spearman'))"
   ]
  }
 ],
 "metadata": {},
 "nbformat": 4,
 "nbformat_minor": 5
}
